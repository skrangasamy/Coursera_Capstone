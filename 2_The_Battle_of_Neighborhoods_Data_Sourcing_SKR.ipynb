{
 "cells": [
  {
   "cell_type": "markdown",
   "metadata": {},
   "source": [
    "# Data Sourcing:\n",
    "### 1. We would need a list of Median Home Sale Prices of MA nieghborhoods (City/Zip Code level)\n",
    "### Data can be sourced from RedFin, a National Real Estate Brokerage, https://www.redfin.com/blog/data-center/\n",
    "#### Data Points - Zip Code, City, County, Median Sale Price. \n",
    "For E.g.: 02148, Malden, 500000\n",
    "\n",
    "### 2. We would need neighborhood specific information like Supermarkets, Trails, Parks, Water Fronts, Restaurants, Coffee Shops, Gyms ets.\n",
    "### Data can be sourced with help of FOURSQUARE Developer Apps, https://foursquare.com/developers/apps\n",
    "#### Data Points - Zip Code, City, Lattitue, Longitude, Venues, Venue Categories \n",
    "Using Get_Venue API we can source the list of venues and venue category information around 5 KM radius of each Neighborhood\n",
    "For E.g.: 01906, Saugus, -71.0110, 42.4651, Breakheart Reservation, Trail\n",
    "\n",
    "### 3. We would need list of public schools in a neighborhood and their progress and performance index information.\n",
    "### Data can be sourced for the year 2017 from https://www.kaggle.com/ndalziel/massachusetts-public-schools-data\n",
    "#### Data Points - Zip Code, City, County, School, School PPI etc.\n",
    "For E.g.: 02478, Belmont, Middlesex, Belmont High, 100\n",
    "\n",
    "### 4. We would need transit scores, walkability scores, bikeability scores of a neighborhood\n",
    "### Data can be sourced from https://www.walkscore.com/MA\n",
    "#### Data Points - Zip Code, City, Walk Score, Transit Score, Bike Score etc.\n",
    "For E.g.: 02138, Cambridge, 88, 74, 96\n",
    "\n",
    "### 5. We need crime statistics for Mass by city or zip code\n",
    "### Data can be sourced from https://ucr.fbi.gov/crime-in-the-u.s/2018/crime-in-the-u.s.-2018/downloads/download-printable-files\n",
    "#### Data Points - City, Population, Number of Violent Crime, Number of Property Crime etc.\n",
    "For E.g.: Hoyolke, 40470, 191, 1640\n",
    "\n",
    "### 6. We would need list of neighborhoods in MA with 1 set of latitude and longitude coordinates\n",
    "### We can source it from: https://public.opendatasoft.com/explore/dataset/us-zip-code-latitude-and-longitude/export/?refine.state=MA\n",
    "#### Data Points - Zip Code, City, Latitude and Longitude\n",
    "For E.g.: 01701, Framingham, -71.4162, 42.2793 \n",
    "\n",
    "### 7. We would need Zip Codes to City to County crossreference mapping\n",
    "### Data can be sourced from https://www.unitedstateszipcodes.org/ma/#zips-list\n",
    "#### Data Points - Zip Code, City, County\n",
    "For E.g.: 01020, Springfield, Hampden \n",
    "\n",
    "### 8. We would need GeoJSON GeoSpatial Coordinates data of City boundaries for maps, choropleths \n",
    "### Data can be sourced from http://maps-massgis.opendata.arcgis.com/datasets/43664de869ca4b06a322c429473c65e5_0.geojson\n",
    "#### Data Points - City, GeoSpatial Lat, Long coordinates define polygonal shape boundaries of cities\n",
    "For E.g.: QUINCY, (-70.987520657600399, 42.304533090819092), (-70.987515724246094, 42.304588167507383), (-70.98749032019883, 42.304654946893386), ......, (-70.960227444070043, 42.29578425180248)\n"
   ]
  }
 ],
 "metadata": {
  "kernelspec": {
   "display_name": "Python",
   "language": "python",
   "name": "conda-env-python-py"
  },
  "language_info": {
   "codemirror_mode": {
    "name": "ipython",
    "version": 3
   },
   "file_extension": ".py",
   "mimetype": "text/x-python",
   "name": "python",
   "nbconvert_exporter": "python",
   "pygments_lexer": "ipython3",
   "version": "3.6.10"
  }
 },
 "nbformat": 4,
 "nbformat_minor": 4
}
