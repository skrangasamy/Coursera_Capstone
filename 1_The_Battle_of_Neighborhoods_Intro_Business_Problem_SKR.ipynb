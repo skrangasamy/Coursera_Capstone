{
 "cells": [
  {
   "cell_type": "markdown",
   "metadata": {},
   "source": [
    "# The battle of neighborhoods - Best Cities to Buy a Home in MA - Recommender Model\n",
    "\n",
    "# Introduction:\n",
    "\n",
    "### Massachusetts has 14 Counties, 39 Cities and 312 Towns. Mass is well endowed with neighborhoods that are active, vibrant, progressive, thoughtful, diverse, fun, friendly, filled with natural beauty and historic charm. This abundance in choice increases the complexity for home buyers in their decision making process. While buying a home, the neighborhood matters the most, sometimes even higher than the home itself. With the help of Data Science, we are attempting to help \"Young Home Buyers with Kids\" to chose a neighborhood that supports an active lifestyle, surrounded by natural beauty, good education, safety, well connected public transport system based on the prevailing Median Pricing. The home buyer can then shop for homes within the neighborhood.\n",
    "\n",
    "# Target Audience:\n",
    "## Home Buyers - Young Family with Kids\n",
    "\n",
    "## Objective\n",
    "### Our objective is to perform an detailed exploratory analysis and recommend a neighborhood by finding answers to the below:\n",
    "#### 1. Which Neighborhood has the most Parks & Recreation avenues for a young family with toddlers/kids?\n",
    "##### - This covers Trails, Rivers, Beaches, Water fronts, Public Parks that support an active lifestlye in a nature backdrop for the family.\n",
    "#### 2. Which Neighborhood has the most Best Schools?\n",
    "##### - This covers public Kindergarten, Elementary, Middle & High Schools that provide for good education and wholesome development of children in the family.\n",
    "#### 3. Which Neighborhood has the best transit score for easy commute?\n",
    "##### - This covers public transport systems that enables the family to get around with ease.\n",
    "#### 4. Which Neighborhood is safest with the least Crime Rate?\n",
    "##### - This covers the safety of the neighborhoods. Includes a total count of both, violent and property crime counts by city. Crime Rate is derived using total population.\n",
    "#### 5. Suggest Top 50 Best Neighborhoods in Massachusetts for a \"Young Family with Kids\" to own a home.\n",
    "\n",
    "# Why it is important :\n",
    "### Massachusetts has multipe culturally rich, diverse, vibrant neighborhoods with varying home prices, often overwhelming and complicating the home buyer's decision making process. Our system attempts to simplify the process by recommending the Best 50 Neighborhoods in MA for a \"Young Family with Kids\" to own a home.\n",
    "\n"
   ]
  }
 ],
 "metadata": {
  "kernelspec": {
   "display_name": "Python",
   "language": "python",
   "name": "conda-env-python-py"
  },
  "language_info": {
   "codemirror_mode": {
    "name": "ipython",
    "version": 3
   },
   "file_extension": ".py",
   "mimetype": "text/x-python",
   "name": "python",
   "nbconvert_exporter": "python",
   "pygments_lexer": "ipython3",
   "version": "3.6.10"
  }
 },
 "nbformat": 4,
 "nbformat_minor": 4
}
