#This notebook will be mainly used for as a sample prep for Capstone Project
import pandas as pd
import numpy as np
print("Hello Capstone Project Course...!!!")
